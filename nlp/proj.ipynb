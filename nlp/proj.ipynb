{
 "cells": [
  {
   "cell_type": "code",
   "execution_count": 15,
   "metadata": {
    "scrolled": true
   },
   "outputs": [],
   "source": [
    "import numpy\n",
    "from keras.datasets import imdb\n",
    "from keras.models import Sequential\n",
    "from keras.layers import Dense\n",
    "from keras.layers import Flatten\n",
    "from keras.layers.convolutional import Conv1D\n",
    "from keras.layers.convolutional import MaxPooling1D\n",
    "from keras.layers.embeddings import Embedding\n",
    "from keras.preprocessing import sequence\n",
    "from keras import regularizers\n",
    "# fix random seed for reproducibility\n",
    "seed = 7\n",
    "numpy.random.seed(seed)"
   ]
  },
  {
   "cell_type": "code",
   "execution_count": 16,
   "metadata": {},
   "outputs": [],
   "source": [
    "top_words = 5000\n",
    "(X_train, y_train), (X_test, y_test) = imdb.load_data(num_words=top_words)\n",
    "# pad dataset to a maximum review length in words\n",
    "max_words = 250\n",
    "X_train = sequence.pad_sequences(X_train, maxlen=max_words)\n",
    "X_test = sequence.pad_sequences(X_test, maxlen=max_words)"
   ]
  },
  {
   "cell_type": "code",
   "execution_count": 27,
   "metadata": {},
   "outputs": [
    {
     "name": "stdout",
     "output_type": "stream",
     "text": [
      "_________________________________________________________________\n",
      "Layer (type)                 Output Shape              Param #   \n",
      "=================================================================\n",
      "embedding_12 (Embedding)     (None, 250, 64)           320000    \n",
      "_________________________________________________________________\n",
      "conv1d_20 (Conv1D)           (None, 250, 64)           12352     \n",
      "_________________________________________________________________\n",
      "max_pooling1d_19 (MaxPooling (None, 125, 64)           0         \n",
      "_________________________________________________________________\n",
      "conv1d_21 (Conv1D)           (None, 125, 32)           6176      \n",
      "_________________________________________________________________\n",
      "max_pooling1d_20 (MaxPooling (None, 62, 32)            0         \n",
      "_________________________________________________________________\n",
      "flatten_11 (Flatten)         (None, 1984)              0         \n",
      "_________________________________________________________________\n",
      "dense_21 (Dense)             (None, 250)               496250    \n",
      "_________________________________________________________________\n",
      "dense_22 (Dense)             (None, 1)                 251       \n",
      "=================================================================\n",
      "Total params: 835,029\n",
      "Trainable params: 835,029\n",
      "Non-trainable params: 0\n",
      "_________________________________________________________________\n",
      "None\n"
     ]
    }
   ],
   "source": [
    "model = Sequential()\n",
    "model.add(Embedding(top_words, 32, input_length=max_words))\n",
    "model.add(Conv1D(filters=32, kernel_size=3, padding='same', activation='relu', kernel_regularizer = regularizers.l2(0.01), bias_regularizer = regularizers.l2(0.01)))\n",
    "model.add(MaxPooling1D(pool_size=2))\n",
    "model.add(Conv1D(filters=16, kernel_size=3, padding='same', activation='relu', kernel_regularizer = regularizers.l2(0.01), bias_regularizer = regularizers.l2(0.01)))\n",
    "model.add(MaxPooling1D(pool_size=2))\n",
    "model.add(Flatten())\n",
    "model.add(Dense(250, activation='relu', kernel_regularizer = regularizers.l2(0.001), bias_regularizer = regularizers.l2(0.001)))\n",
    "model.add(Dense(1, activation='sigmoid'))\n",
    "model.compile(loss='binary_crossentropy', optimizer='adam', metrics=['accuracy'])\n",
    "print(model.summary())"
   ]
  },
  {
   "cell_type": "code",
   "execution_count": 28,
   "metadata": {},
   "outputs": [
    {
     "name": "stdout",
     "output_type": "stream",
     "text": [
      "Train on 25000 samples, validate on 25000 samples\n",
      "Epoch 1/10\n",
      " - 22s - loss: 1.1702 - acc: 0.5257 - val_loss: 0.7609 - val_acc: 0.6514\n",
      "Epoch 2/10\n",
      " - 19s - loss: 0.4680 - acc: 0.8211 - val_loss: 0.3506 - val_acc: 0.8795\n",
      "Epoch 3/10\n",
      " - 19s - loss: 0.2933 - acc: 0.9085 - val_loss: 0.3371 - val_acc: 0.8820\n",
      "Epoch 4/10\n",
      " - 19s - loss: 0.2546 - acc: 0.9233 - val_loss: 0.3435 - val_acc: 0.8790\n",
      "Epoch 5/10\n",
      " - 19s - loss: 0.2413 - acc: 0.9285 - val_loss: 0.3572 - val_acc: 0.8730\n",
      "Epoch 6/10\n",
      " - 19s - loss: 0.2206 - acc: 0.9368 - val_loss: 0.3558 - val_acc: 0.8755\n",
      "Epoch 7/10\n",
      " - 21s - loss: 0.2001 - acc: 0.9487 - val_loss: 0.3784 - val_acc: 0.8700\n",
      "Epoch 8/10\n",
      " - 19s - loss: 0.1950 - acc: 0.9498 - val_loss: 0.3848 - val_acc: 0.8711\n",
      "Epoch 9/10\n",
      " - 19s - loss: 0.1800 - acc: 0.9578 - val_loss: 0.4288 - val_acc: 0.8616\n",
      "Epoch 10/10\n",
      " - 19s - loss: 0.1678 - acc: 0.9641 - val_loss: 0.4296 - val_acc: 0.8668\n",
      "Accuracy: 86.68%\n"
     ]
    }
   ],
   "source": [
    "model.fit(X_train, y_train, validation_data=(X_test, y_test), epochs=10, batch_size=256, verbose=2)\n",
    "# Final evaluation of the model\n",
    "scores = model.evaluate(X_test, y_test, verbose=0)\n",
    "print(\"Accuracy: %.2f%%\" % (scores[1]*100))"
   ]
  },
  {
   "cell_type": "raw",
   "metadata": {},
   "source": [
    "model = Sequential()\n",
    "model.add(Embedding(top_words, 32, input_length=max_words))\n",
    "model.add(Flatten())\n",
    "model.add(Dense(250, activation='relu'))\n",
    "model.add(Dense(1, activation='sigmoid'))\n",
    "model.compile(loss='binary_crossentropy', optimizer='adam', metrics=['accuracy'])\n",
    "print(model.summary())"
   ]
  },
  {
   "cell_type": "code",
   "execution_count": null,
   "metadata": {},
   "outputs": [],
   "source": []
  }
 ],
 "metadata": {
  "kernelspec": {
   "display_name": "Python 3",
   "language": "python",
   "name": "python3"
  },
  "language_info": {
   "codemirror_mode": {
    "name": "ipython",
    "version": 3
   },
   "file_extension": ".py",
   "mimetype": "text/x-python",
   "name": "python",
   "nbconvert_exporter": "python",
   "pygments_lexer": "ipython3",
   "version": "3.5.2"
  }
 },
 "nbformat": 4,
 "nbformat_minor": 2
}
